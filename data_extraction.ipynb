{
  "cells": [
    {
      "cell_type": "markdown",
      "metadata": {
        "id": "view-in-github",
        "colab_type": "text"
      },
      "source": [
        "<a href=\"https://colab.research.google.com/github/1234567980/Project-Test/blob/main/data_extraction.ipynb\" target=\"_parent\"><img src=\"https://colab.research.google.com/assets/colab-badge.svg\" alt=\"Open In Colab\"/></a>"
      ]
    },
    {
      "cell_type": "markdown",
      "metadata": {
        "id": "s9IS9B9-yUU5"
      },
      "source": [
        "# Setup\n",
        "\n"
      ]
    },
    {
      "cell_type": "code",
      "source": [
        "from google.colab import drive\n",
        "# This will prompt for authorization.\n",
        "drive.mount('/content/drive')"
      ],
      "metadata": {
        "colab": {
          "base_uri": "https://localhost:8080/"
        },
        "id": "JNdb04-rKPBy",
        "outputId": "3b61a63e-e211-4e72-afea-99766d75e423"
      },
      "execution_count": null,
      "outputs": [
        {
          "output_type": "stream",
          "name": "stdout",
          "text": [
            "Mounted at /content/drive\n"
          ]
        }
      ]
    },
    {
      "cell_type": "code",
      "execution_count": null,
      "metadata": {
        "id": "Z-6MQhMOlHXD"
      },
      "outputs": [],
      "source": [
        "import io\n",
        "import pandas as pd\n",
        "######################################################################\n",
        "# Setup python environment \n",
        "######################################################################\n",
        "csv_path = '/content/drive/My Drive/Colab Notebooks/CSC413/Final Project/MovieData.csv'\n",
        "md_df = pd.read_csv(csv_path)\n",
        "md_df['movie_name'] = md_df['movie_name'].str.replace(\" \", \"+\")\n",
        "# Dataset is now stored in a Pandas Dataframe"
      ]
    },
    {
      "cell_type": "code",
      "source": [
        "import requests\n",
        "import json\n",
        "api_key_auth3 = 'fad9ac13c7b36b3e05f6b63be16e74f0'"
      ],
      "metadata": {
        "id": "LAgCBGEsJkCk"
      },
      "execution_count": null,
      "outputs": []
    },
    {
      "cell_type": "code",
      "source": [
        "md_df"
      ],
      "metadata": {
        "colab": {
          "base_uri": "https://localhost:8080/",
          "height": 602
        },
        "id": "RrXOxjSeX5S3",
        "outputId": "1db3c143-7713-4c96-e53d-f7ea047c303f"
      },
      "execution_count": null,
      "outputs": [
        {
          "output_type": "execute_result",
          "data": {
            "text/plain": [
              "                                       movie_name  production_year  \\\n",
              "0                          Madea's+Family+Reunion             2006   \n",
              "1                                          Krrish             2006   \n",
              "2                                End+of+the+Spear             2006   \n",
              "3                        A+Prairie+Home+Companion             2006   \n",
              "4                                         Saw+III             2006   \n",
              "...                                           ...              ...   \n",
              "1931           The+Nutcracker+and+the+Four+Realms             2018   \n",
              "1932                                      Aquaman             2018   \n",
              "1933                    Ralph+Breaks+The+Internet             2018   \n",
              "1934                  Mission:+Impossible—Fallout             2018   \n",
              "1935  Fantastic+Beasts:+The+Crimes+of+Grindelwald             2018   \n",
              "\n",
              "      movie_odid  production_budget  domestic_box_office  \\\n",
              "0        8220100           10000000             63257940   \n",
              "1       58540100           10000000              1430721   \n",
              "2       34620100           10000000             11748661   \n",
              "3       24910100           10000000             20342852   \n",
              "4        5840100           10000000             80238724   \n",
              "...          ...                ...                  ...   \n",
              "1931   298170100          132900000             54858851   \n",
              "1932   213100100          160000000            333804251   \n",
              "1933   263730100          175000000            200236625   \n",
              "1934   248680100          178000000            220159104   \n",
              "1935   222990100          200000000            159555901   \n",
              "\n",
              "      international_box_office     rating         creative_type  \\\n",
              "0                        62581      PG-13  Contemporary Fiction   \n",
              "1                     31000000  Not Rated       Science Fiction   \n",
              "2                       175380      PG-13    Historical Fiction   \n",
              "3                      6373339      PG-13  Contemporary Fiction   \n",
              "4                     83638091          R  Contemporary Fiction   \n",
              "...                        ...        ...                   ...   \n",
              "1931                 115435048         PG               Fantasy   \n",
              "1932                 805605026      PG-13            Super Hero   \n",
              "1933                 319167373         PG          Kids Fiction   \n",
              "1934                 567297448      PG-13  Contemporary Fiction   \n",
              "1935                 492664185      PG-13               Fantasy   \n",
              "\n",
              "                                   source  production_method      genre  \\\n",
              "0                           Based on Play        Live Action     Comedy   \n",
              "1                     Original Screenplay        Live Action     Action   \n",
              "2                     Original Screenplay        Live Action      Drama   \n",
              "3                     Original Screenplay        Live Action     Comedy   \n",
              "4                     Original Screenplay        Live Action     Horror   \n",
              "...                                   ...                ...        ...   \n",
              "1931  Based on Folk Tale/Legend/Fairytale        Live Action  Adventure   \n",
              "1932         Based on Comic/Graphic Novel        Live Action     Action   \n",
              "1933                  Original Screenplay  Digital Animation  Adventure   \n",
              "1934                          Based on TV        Live Action     Action   \n",
              "1935                             Spin-Off        Live Action  Adventure   \n",
              "\n",
              "      sequel  running_time  \n",
              "0        1.0           NaN  \n",
              "1        1.0           NaN  \n",
              "2        0.0           NaN  \n",
              "3        0.0         105.0  \n",
              "4        1.0           NaN  \n",
              "...      ...           ...  \n",
              "1931     0.0          99.0  \n",
              "1932     0.0         143.0  \n",
              "1933     1.0         112.0  \n",
              "1934     1.0         147.0  \n",
              "1935     1.0         134.0  \n",
              "\n",
              "[1936 rows x 13 columns]"
            ],
            "text/html": [
              "\n",
              "  <div id=\"df-5a8b725e-f71a-43a2-ac40-16b7eb8bee53\">\n",
              "    <div class=\"colab-df-container\">\n",
              "      <div>\n",
              "<style scoped>\n",
              "    .dataframe tbody tr th:only-of-type {\n",
              "        vertical-align: middle;\n",
              "    }\n",
              "\n",
              "    .dataframe tbody tr th {\n",
              "        vertical-align: top;\n",
              "    }\n",
              "\n",
              "    .dataframe thead th {\n",
              "        text-align: right;\n",
              "    }\n",
              "</style>\n",
              "<table border=\"1\" class=\"dataframe\">\n",
              "  <thead>\n",
              "    <tr style=\"text-align: right;\">\n",
              "      <th></th>\n",
              "      <th>movie_name</th>\n",
              "      <th>production_year</th>\n",
              "      <th>movie_odid</th>\n",
              "      <th>production_budget</th>\n",
              "      <th>domestic_box_office</th>\n",
              "      <th>international_box_office</th>\n",
              "      <th>rating</th>\n",
              "      <th>creative_type</th>\n",
              "      <th>source</th>\n",
              "      <th>production_method</th>\n",
              "      <th>genre</th>\n",
              "      <th>sequel</th>\n",
              "      <th>running_time</th>\n",
              "    </tr>\n",
              "  </thead>\n",
              "  <tbody>\n",
              "    <tr>\n",
              "      <th>0</th>\n",
              "      <td>Madea's+Family+Reunion</td>\n",
              "      <td>2006</td>\n",
              "      <td>8220100</td>\n",
              "      <td>10000000</td>\n",
              "      <td>63257940</td>\n",
              "      <td>62581</td>\n",
              "      <td>PG-13</td>\n",
              "      <td>Contemporary Fiction</td>\n",
              "      <td>Based on Play</td>\n",
              "      <td>Live Action</td>\n",
              "      <td>Comedy</td>\n",
              "      <td>1.0</td>\n",
              "      <td>NaN</td>\n",
              "    </tr>\n",
              "    <tr>\n",
              "      <th>1</th>\n",
              "      <td>Krrish</td>\n",
              "      <td>2006</td>\n",
              "      <td>58540100</td>\n",
              "      <td>10000000</td>\n",
              "      <td>1430721</td>\n",
              "      <td>31000000</td>\n",
              "      <td>Not Rated</td>\n",
              "      <td>Science Fiction</td>\n",
              "      <td>Original Screenplay</td>\n",
              "      <td>Live Action</td>\n",
              "      <td>Action</td>\n",
              "      <td>1.0</td>\n",
              "      <td>NaN</td>\n",
              "    </tr>\n",
              "    <tr>\n",
              "      <th>2</th>\n",
              "      <td>End+of+the+Spear</td>\n",
              "      <td>2006</td>\n",
              "      <td>34620100</td>\n",
              "      <td>10000000</td>\n",
              "      <td>11748661</td>\n",
              "      <td>175380</td>\n",
              "      <td>PG-13</td>\n",
              "      <td>Historical Fiction</td>\n",
              "      <td>Original Screenplay</td>\n",
              "      <td>Live Action</td>\n",
              "      <td>Drama</td>\n",
              "      <td>0.0</td>\n",
              "      <td>NaN</td>\n",
              "    </tr>\n",
              "    <tr>\n",
              "      <th>3</th>\n",
              "      <td>A+Prairie+Home+Companion</td>\n",
              "      <td>2006</td>\n",
              "      <td>24910100</td>\n",
              "      <td>10000000</td>\n",
              "      <td>20342852</td>\n",
              "      <td>6373339</td>\n",
              "      <td>PG-13</td>\n",
              "      <td>Contemporary Fiction</td>\n",
              "      <td>Original Screenplay</td>\n",
              "      <td>Live Action</td>\n",
              "      <td>Comedy</td>\n",
              "      <td>0.0</td>\n",
              "      <td>105.0</td>\n",
              "    </tr>\n",
              "    <tr>\n",
              "      <th>4</th>\n",
              "      <td>Saw+III</td>\n",
              "      <td>2006</td>\n",
              "      <td>5840100</td>\n",
              "      <td>10000000</td>\n",
              "      <td>80238724</td>\n",
              "      <td>83638091</td>\n",
              "      <td>R</td>\n",
              "      <td>Contemporary Fiction</td>\n",
              "      <td>Original Screenplay</td>\n",
              "      <td>Live Action</td>\n",
              "      <td>Horror</td>\n",
              "      <td>1.0</td>\n",
              "      <td>NaN</td>\n",
              "    </tr>\n",
              "    <tr>\n",
              "      <th>...</th>\n",
              "      <td>...</td>\n",
              "      <td>...</td>\n",
              "      <td>...</td>\n",
              "      <td>...</td>\n",
              "      <td>...</td>\n",
              "      <td>...</td>\n",
              "      <td>...</td>\n",
              "      <td>...</td>\n",
              "      <td>...</td>\n",
              "      <td>...</td>\n",
              "      <td>...</td>\n",
              "      <td>...</td>\n",
              "      <td>...</td>\n",
              "    </tr>\n",
              "    <tr>\n",
              "      <th>1931</th>\n",
              "      <td>The+Nutcracker+and+the+Four+Realms</td>\n",
              "      <td>2018</td>\n",
              "      <td>298170100</td>\n",
              "      <td>132900000</td>\n",
              "      <td>54858851</td>\n",
              "      <td>115435048</td>\n",
              "      <td>PG</td>\n",
              "      <td>Fantasy</td>\n",
              "      <td>Based on Folk Tale/Legend/Fairytale</td>\n",
              "      <td>Live Action</td>\n",
              "      <td>Adventure</td>\n",
              "      <td>0.0</td>\n",
              "      <td>99.0</td>\n",
              "    </tr>\n",
              "    <tr>\n",
              "      <th>1932</th>\n",
              "      <td>Aquaman</td>\n",
              "      <td>2018</td>\n",
              "      <td>213100100</td>\n",
              "      <td>160000000</td>\n",
              "      <td>333804251</td>\n",
              "      <td>805605026</td>\n",
              "      <td>PG-13</td>\n",
              "      <td>Super Hero</td>\n",
              "      <td>Based on Comic/Graphic Novel</td>\n",
              "      <td>Live Action</td>\n",
              "      <td>Action</td>\n",
              "      <td>0.0</td>\n",
              "      <td>143.0</td>\n",
              "    </tr>\n",
              "    <tr>\n",
              "      <th>1933</th>\n",
              "      <td>Ralph+Breaks+The+Internet</td>\n",
              "      <td>2018</td>\n",
              "      <td>263730100</td>\n",
              "      <td>175000000</td>\n",
              "      <td>200236625</td>\n",
              "      <td>319167373</td>\n",
              "      <td>PG</td>\n",
              "      <td>Kids Fiction</td>\n",
              "      <td>Original Screenplay</td>\n",
              "      <td>Digital Animation</td>\n",
              "      <td>Adventure</td>\n",
              "      <td>1.0</td>\n",
              "      <td>112.0</td>\n",
              "    </tr>\n",
              "    <tr>\n",
              "      <th>1934</th>\n",
              "      <td>Mission:+Impossible—Fallout</td>\n",
              "      <td>2018</td>\n",
              "      <td>248680100</td>\n",
              "      <td>178000000</td>\n",
              "      <td>220159104</td>\n",
              "      <td>567297448</td>\n",
              "      <td>PG-13</td>\n",
              "      <td>Contemporary Fiction</td>\n",
              "      <td>Based on TV</td>\n",
              "      <td>Live Action</td>\n",
              "      <td>Action</td>\n",
              "      <td>1.0</td>\n",
              "      <td>147.0</td>\n",
              "    </tr>\n",
              "    <tr>\n",
              "      <th>1935</th>\n",
              "      <td>Fantastic+Beasts:+The+Crimes+of+Grindelwald</td>\n",
              "      <td>2018</td>\n",
              "      <td>222990100</td>\n",
              "      <td>200000000</td>\n",
              "      <td>159555901</td>\n",
              "      <td>492664185</td>\n",
              "      <td>PG-13</td>\n",
              "      <td>Fantasy</td>\n",
              "      <td>Spin-Off</td>\n",
              "      <td>Live Action</td>\n",
              "      <td>Adventure</td>\n",
              "      <td>1.0</td>\n",
              "      <td>134.0</td>\n",
              "    </tr>\n",
              "  </tbody>\n",
              "</table>\n",
              "<p>1936 rows × 13 columns</p>\n",
              "</div>\n",
              "      <button class=\"colab-df-convert\" onclick=\"convertToInteractive('df-5a8b725e-f71a-43a2-ac40-16b7eb8bee53')\"\n",
              "              title=\"Convert this dataframe to an interactive table.\"\n",
              "              style=\"display:none;\">\n",
              "        \n",
              "  <svg xmlns=\"http://www.w3.org/2000/svg\" height=\"24px\"viewBox=\"0 0 24 24\"\n",
              "       width=\"24px\">\n",
              "    <path d=\"M0 0h24v24H0V0z\" fill=\"none\"/>\n",
              "    <path d=\"M18.56 5.44l.94 2.06.94-2.06 2.06-.94-2.06-.94-.94-2.06-.94 2.06-2.06.94zm-11 1L8.5 8.5l.94-2.06 2.06-.94-2.06-.94L8.5 2.5l-.94 2.06-2.06.94zm10 10l.94 2.06.94-2.06 2.06-.94-2.06-.94-.94-2.06-.94 2.06-2.06.94z\"/><path d=\"M17.41 7.96l-1.37-1.37c-.4-.4-.92-.59-1.43-.59-.52 0-1.04.2-1.43.59L10.3 9.45l-7.72 7.72c-.78.78-.78 2.05 0 2.83L4 21.41c.39.39.9.59 1.41.59.51 0 1.02-.2 1.41-.59l7.78-7.78 2.81-2.81c.8-.78.8-2.07 0-2.86zM5.41 20L4 18.59l7.72-7.72 1.47 1.35L5.41 20z\"/>\n",
              "  </svg>\n",
              "      </button>\n",
              "      \n",
              "  <style>\n",
              "    .colab-df-container {\n",
              "      display:flex;\n",
              "      flex-wrap:wrap;\n",
              "      gap: 12px;\n",
              "    }\n",
              "\n",
              "    .colab-df-convert {\n",
              "      background-color: #E8F0FE;\n",
              "      border: none;\n",
              "      border-radius: 50%;\n",
              "      cursor: pointer;\n",
              "      display: none;\n",
              "      fill: #1967D2;\n",
              "      height: 32px;\n",
              "      padding: 0 0 0 0;\n",
              "      width: 32px;\n",
              "    }\n",
              "\n",
              "    .colab-df-convert:hover {\n",
              "      background-color: #E2EBFA;\n",
              "      box-shadow: 0px 1px 2px rgba(60, 64, 67, 0.3), 0px 1px 3px 1px rgba(60, 64, 67, 0.15);\n",
              "      fill: #174EA6;\n",
              "    }\n",
              "\n",
              "    [theme=dark] .colab-df-convert {\n",
              "      background-color: #3B4455;\n",
              "      fill: #D2E3FC;\n",
              "    }\n",
              "\n",
              "    [theme=dark] .colab-df-convert:hover {\n",
              "      background-color: #434B5C;\n",
              "      box-shadow: 0px 1px 3px 1px rgba(0, 0, 0, 0.15);\n",
              "      filter: drop-shadow(0px 1px 2px rgba(0, 0, 0, 0.3));\n",
              "      fill: #FFFFFF;\n",
              "    }\n",
              "  </style>\n",
              "\n",
              "      <script>\n",
              "        const buttonEl =\n",
              "          document.querySelector('#df-5a8b725e-f71a-43a2-ac40-16b7eb8bee53 button.colab-df-convert');\n",
              "        buttonEl.style.display =\n",
              "          google.colab.kernel.accessAllowed ? 'block' : 'none';\n",
              "\n",
              "        async function convertToInteractive(key) {\n",
              "          const element = document.querySelector('#df-5a8b725e-f71a-43a2-ac40-16b7eb8bee53');\n",
              "          const dataTable =\n",
              "            await google.colab.kernel.invokeFunction('convertToInteractive',\n",
              "                                                     [key], {});\n",
              "          if (!dataTable) return;\n",
              "\n",
              "          const docLinkHtml = 'Like what you see? Visit the ' +\n",
              "            '<a target=\"_blank\" href=https://colab.research.google.com/notebooks/data_table.ipynb>data table notebook</a>'\n",
              "            + ' to learn more about interactive tables.';\n",
              "          element.innerHTML = '';\n",
              "          dataTable['output_type'] = 'display_data';\n",
              "          await google.colab.output.renderOutput(dataTable, element);\n",
              "          const docLink = document.createElement('div');\n",
              "          docLink.innerHTML = docLinkHtml;\n",
              "          element.appendChild(docLink);\n",
              "        }\n",
              "      </script>\n",
              "    </div>\n",
              "  </div>\n",
              "  "
            ]
          },
          "metadata": {},
          "execution_count": 4
        }
      ]
    },
    {
      "cell_type": "code",
      "source": [
        "md_df.loc[md_df['movie_name'] == 'Brothers']"
      ],
      "metadata": {
        "colab": {
          "base_uri": "https://localhost:8080/",
          "height": 192
        },
        "id": "tNgqgpaL4gR6",
        "outputId": "62af711a-44a8-4755-d135-e9d0e2f98b1f"
      },
      "execution_count": null,
      "outputs": [
        {
          "output_type": "execute_result",
          "data": {
            "text/plain": [
              "     movie_name  production_year  movie_odid  production_budget  \\\n",
              "588    Brothers             2009   112190100           26000000   \n",
              "1495   Brothers             2015   236560100           13000000   \n",
              "\n",
              "      domestic_box_office  international_box_office     rating  \\\n",
              "588              28544157                  16499713          R   \n",
              "1495               656688                  17200000  Not Rated   \n",
              "\n",
              "             creative_type  source production_method   genre  sequel  \\\n",
              "588     Historical Fiction  Remake       Live Action   Drama     0.0   \n",
              "1495  Contemporary Fiction  Remake       Live Action  Action     0.0   \n",
              "\n",
              "      running_time  \n",
              "588          105.0  \n",
              "1495         155.0  "
            ],
            "text/html": [
              "\n",
              "  <div id=\"df-921b3297-ff91-4e78-b8d7-9d2a845bef99\">\n",
              "    <div class=\"colab-df-container\">\n",
              "      <div>\n",
              "<style scoped>\n",
              "    .dataframe tbody tr th:only-of-type {\n",
              "        vertical-align: middle;\n",
              "    }\n",
              "\n",
              "    .dataframe tbody tr th {\n",
              "        vertical-align: top;\n",
              "    }\n",
              "\n",
              "    .dataframe thead th {\n",
              "        text-align: right;\n",
              "    }\n",
              "</style>\n",
              "<table border=\"1\" class=\"dataframe\">\n",
              "  <thead>\n",
              "    <tr style=\"text-align: right;\">\n",
              "      <th></th>\n",
              "      <th>movie_name</th>\n",
              "      <th>production_year</th>\n",
              "      <th>movie_odid</th>\n",
              "      <th>production_budget</th>\n",
              "      <th>domestic_box_office</th>\n",
              "      <th>international_box_office</th>\n",
              "      <th>rating</th>\n",
              "      <th>creative_type</th>\n",
              "      <th>source</th>\n",
              "      <th>production_method</th>\n",
              "      <th>genre</th>\n",
              "      <th>sequel</th>\n",
              "      <th>running_time</th>\n",
              "    </tr>\n",
              "  </thead>\n",
              "  <tbody>\n",
              "    <tr>\n",
              "      <th>588</th>\n",
              "      <td>Brothers</td>\n",
              "      <td>2009</td>\n",
              "      <td>112190100</td>\n",
              "      <td>26000000</td>\n",
              "      <td>28544157</td>\n",
              "      <td>16499713</td>\n",
              "      <td>R</td>\n",
              "      <td>Historical Fiction</td>\n",
              "      <td>Remake</td>\n",
              "      <td>Live Action</td>\n",
              "      <td>Drama</td>\n",
              "      <td>0.0</td>\n",
              "      <td>105.0</td>\n",
              "    </tr>\n",
              "    <tr>\n",
              "      <th>1495</th>\n",
              "      <td>Brothers</td>\n",
              "      <td>2015</td>\n",
              "      <td>236560100</td>\n",
              "      <td>13000000</td>\n",
              "      <td>656688</td>\n",
              "      <td>17200000</td>\n",
              "      <td>Not Rated</td>\n",
              "      <td>Contemporary Fiction</td>\n",
              "      <td>Remake</td>\n",
              "      <td>Live Action</td>\n",
              "      <td>Action</td>\n",
              "      <td>0.0</td>\n",
              "      <td>155.0</td>\n",
              "    </tr>\n",
              "  </tbody>\n",
              "</table>\n",
              "</div>\n",
              "      <button class=\"colab-df-convert\" onclick=\"convertToInteractive('df-921b3297-ff91-4e78-b8d7-9d2a845bef99')\"\n",
              "              title=\"Convert this dataframe to an interactive table.\"\n",
              "              style=\"display:none;\">\n",
              "        \n",
              "  <svg xmlns=\"http://www.w3.org/2000/svg\" height=\"24px\"viewBox=\"0 0 24 24\"\n",
              "       width=\"24px\">\n",
              "    <path d=\"M0 0h24v24H0V0z\" fill=\"none\"/>\n",
              "    <path d=\"M18.56 5.44l.94 2.06.94-2.06 2.06-.94-2.06-.94-.94-2.06-.94 2.06-2.06.94zm-11 1L8.5 8.5l.94-2.06 2.06-.94-2.06-.94L8.5 2.5l-.94 2.06-2.06.94zm10 10l.94 2.06.94-2.06 2.06-.94-2.06-.94-.94-2.06-.94 2.06-2.06.94z\"/><path d=\"M17.41 7.96l-1.37-1.37c-.4-.4-.92-.59-1.43-.59-.52 0-1.04.2-1.43.59L10.3 9.45l-7.72 7.72c-.78.78-.78 2.05 0 2.83L4 21.41c.39.39.9.59 1.41.59.51 0 1.02-.2 1.41-.59l7.78-7.78 2.81-2.81c.8-.78.8-2.07 0-2.86zM5.41 20L4 18.59l7.72-7.72 1.47 1.35L5.41 20z\"/>\n",
              "  </svg>\n",
              "      </button>\n",
              "      \n",
              "  <style>\n",
              "    .colab-df-container {\n",
              "      display:flex;\n",
              "      flex-wrap:wrap;\n",
              "      gap: 12px;\n",
              "    }\n",
              "\n",
              "    .colab-df-convert {\n",
              "      background-color: #E8F0FE;\n",
              "      border: none;\n",
              "      border-radius: 50%;\n",
              "      cursor: pointer;\n",
              "      display: none;\n",
              "      fill: #1967D2;\n",
              "      height: 32px;\n",
              "      padding: 0 0 0 0;\n",
              "      width: 32px;\n",
              "    }\n",
              "\n",
              "    .colab-df-convert:hover {\n",
              "      background-color: #E2EBFA;\n",
              "      box-shadow: 0px 1px 2px rgba(60, 64, 67, 0.3), 0px 1px 3px 1px rgba(60, 64, 67, 0.15);\n",
              "      fill: #174EA6;\n",
              "    }\n",
              "\n",
              "    [theme=dark] .colab-df-convert {\n",
              "      background-color: #3B4455;\n",
              "      fill: #D2E3FC;\n",
              "    }\n",
              "\n",
              "    [theme=dark] .colab-df-convert:hover {\n",
              "      background-color: #434B5C;\n",
              "      box-shadow: 0px 1px 3px 1px rgba(0, 0, 0, 0.15);\n",
              "      filter: drop-shadow(0px 1px 2px rgba(0, 0, 0, 0.3));\n",
              "      fill: #FFFFFF;\n",
              "    }\n",
              "  </style>\n",
              "\n",
              "      <script>\n",
              "        const buttonEl =\n",
              "          document.querySelector('#df-921b3297-ff91-4e78-b8d7-9d2a845bef99 button.colab-df-convert');\n",
              "        buttonEl.style.display =\n",
              "          google.colab.kernel.accessAllowed ? 'block' : 'none';\n",
              "\n",
              "        async function convertToInteractive(key) {\n",
              "          const element = document.querySelector('#df-921b3297-ff91-4e78-b8d7-9d2a845bef99');\n",
              "          const dataTable =\n",
              "            await google.colab.kernel.invokeFunction('convertToInteractive',\n",
              "                                                     [key], {});\n",
              "          if (!dataTable) return;\n",
              "\n",
              "          const docLinkHtml = 'Like what you see? Visit the ' +\n",
              "            '<a target=\"_blank\" href=https://colab.research.google.com/notebooks/data_table.ipynb>data table notebook</a>'\n",
              "            + ' to learn more about interactive tables.';\n",
              "          element.innerHTML = '';\n",
              "          dataTable['output_type'] = 'display_data';\n",
              "          await google.colab.output.renderOutput(dataTable, element);\n",
              "          const docLink = document.createElement('div');\n",
              "          docLink.innerHTML = docLinkHtml;\n",
              "          element.appendChild(docLink);\n",
              "        }\n",
              "      </script>\n",
              "    </div>\n",
              "  </div>\n",
              "  "
            ]
          },
          "metadata": {},
          "execution_count": 14
        }
      ]
    },
    {
      "cell_type": "code",
      "source": [
        "md_df.groupby('movie_name').genre.nunique().sort_values(ascending = False)"
      ],
      "metadata": {
        "colab": {
          "base_uri": "https://localhost:8080/"
        },
        "id": "y7rn8FfD3UPz",
        "outputId": "5845fa48-9e4c-4f72-9f15-90a04376c15d"
      },
      "execution_count": null,
      "outputs": [
        {
          "output_type": "execute_result",
          "data": {
            "text/plain": [
              "movie_name\n",
              "Brothers                                2\n",
              "Home                                    2\n",
              "10+Days+in+a+Madhouse                   1\n",
              "Soul+Men                                1\n",
              "Spider-Man:+Into+The+Spider-Verse+3D    1\n",
              "                                       ..\n",
              "Le+prénom                               0\n",
              "The+Joneses                             0\n",
              "Free+Style                              0\n",
              "Haeundae                                0\n",
              "Triangle                                0\n",
              "Name: genre, Length: 1931, dtype: int64"
            ]
          },
          "metadata": {},
          "execution_count": 11
        }
      ]
    },
    {
      "cell_type": "markdown",
      "source": [
        "# API Example"
      ],
      "metadata": {
        "id": "3PiPezI5PAxe"
      }
    },
    {
      "cell_type": "code",
      "source": [
        "response = requests.get(f\"https://api.themoviedb.org/3/search/movie?api_key={api_key_auth3}&query=Brothers\")\n",
        "response = response.json()"
      ],
      "metadata": {
        "id": "nESm4Es7NuJ6"
      },
      "execution_count": null,
      "outputs": []
    },
    {
      "cell_type": "code",
      "source": [
        "print(response['results'])"
      ],
      "metadata": {
        "colab": {
          "base_uri": "https://localhost:8080/"
        },
        "id": "22fbMBq1OB5h",
        "outputId": "9126dde0-d993-433d-dc27-026519b73cbc"
      },
      "execution_count": null,
      "outputs": [
        {
          "output_type": "stream",
          "name": "stdout",
          "text": [
            "[{'adult': False, 'backdrop_path': '/zncDexWfEHrPVwvPGGbiVjbyabJ.jpg', 'genre_ids': [18, 53, 10752], 'id': 7445, 'original_language': 'en', 'original_title': 'Brothers', 'overview': 'When his helicopter goes down during his fourth tour of duty in Afghanistan, Marine Sam Cahill is presumed dead. Back home, brother Tommy steps in to look over Sam’s wife, Grace, and two children. Sam’s surprise homecoming triggers domestic mayhem.', 'popularity': 97.324, 'poster_path': '/ySXRgHCdelVtvUyHcKGpiQKb052.jpg', 'release_date': '2009-01-22', 'title': 'Brothers', 'video': False, 'vote_average': 7.301, 'vote_count': 2911}, {'adult': False, 'backdrop_path': None, 'genre_ids': [18], 'id': 397805, 'original_language': 'en', 'original_title': 'Brothers', 'overview': 'A gripping, Cain-and-Abel tale.', 'popularity': 3.225, 'poster_path': '/odWeSuYReXXGTKDexHLoa1ghAzD.jpg', 'release_date': '2015-09-12', 'title': 'Brothers', 'video': False, 'vote_average': 6.731, 'vote_count': 26}, {'adult': False, 'backdrop_path': None, 'genre_ids': [], 'id': 395306, 'original_language': 'en', 'original_title': 'Brothers', 'overview': 'A nigerian living in Germany visits his brother in Nigeria and disappears.', 'popularity': 1.005, 'poster_path': None, 'release_date': '2015-01-01', 'title': 'Brothers', 'video': False, 'vote_average': 0.0, 'vote_count': 0}, {'adult': False, 'backdrop_path': '/lerhGLQIxvXoWrYPSaK7fwhYZIt.jpg', 'genre_ids': [18], 'id': 748806, 'original_language': 'en', 'original_title': 'Brothers', 'overview': 'A Film by CZ Oster.  Andrew and Thomas Brumfield star as brothers navigating their complicated relationship. Fully improvised short shot entirely on iPhone.', 'popularity': 0.862, 'poster_path': '/aIuRKAomyCDP2p1navlXPYcw63A.jpg', 'release_date': '2020-08-24', 'title': 'Brothers', 'video': False, 'vote_average': 0.0, 'vote_count': 0}, {'adult': False, 'backdrop_path': None, 'genre_ids': [35], 'id': 616446, 'original_language': 'en', 'original_title': 'Brothers', 'overview': '', 'popularity': 1.373, 'poster_path': None, 'release_date': '', 'title': 'Brothers', 'video': False, 'vote_average': 0.0, 'vote_count': 0}, {'adult': False, 'backdrop_path': None, 'genre_ids': [18], 'id': 91025, 'original_language': 'en', 'original_title': 'Brothers', 'overview': 'Thinly disguised account of the relationship between radical black activist Angela Davis and Black Panther and prison inmate George Jackson, who was one of those killed in a failed 1971 prison breakout.', 'popularity': 1.219, 'poster_path': '/62MVIMVvROhnUTgSWKMSPYg4MKy.jpg', 'release_date': '1977-03-31', 'title': 'Brothers', 'video': False, 'vote_average': 0.0, 'vote_count': 0}, {'adult': False, 'backdrop_path': None, 'genre_ids': [], 'id': 820925, 'original_language': 'en', 'original_title': 'Brothers', 'overview': \"Sixteen-year old Chris' dreary life takes a turn when a girl from out of town steps into his world, but his temperamental brother David is about to get them into trouble again.\", 'popularity': 1.013, 'poster_path': '/lV5zGpoPgSpesvPAL4VUOsE4TlX.jpg', 'release_date': '2015-09-29', 'title': 'Brothers', 'video': False, 'vote_average': 0.0, 'vote_count': 0}, {'adult': False, 'backdrop_path': None, 'genre_ids': [], 'id': 762815, 'original_language': 'en', 'original_title': 'Brothers', 'overview': 'BROTHERS, is a story of friendship, betrayal and the fragility of mental health. Starring Michael Workeye and Jay Lycurgo, the film is inspired by the real life experience of Michael and his relationship with his older brother and his mental health issues that led to his suicide.', 'popularity': 1.113, 'poster_path': None, 'release_date': '2020-11-06', 'title': 'Brothers', 'video': False, 'vote_average': 0.0, 'vote_count': 0}, {'adult': False, 'backdrop_path': None, 'genre_ids': [10402, 18], 'id': 606073, 'original_language': 'xx', 'original_title': 'Brothers', 'overview': 'From childhood to adulthood, brothers Bilal and Nassim support each other no matter what.', 'popularity': 0.6, 'poster_path': '/95ewFbzvxskvVwyLPmK5BGxgyQv.jpg', 'release_date': '2018-09-18', 'title': 'Brothers', 'video': False, 'vote_average': 1.0, 'vote_count': 2}, {'adult': False, 'backdrop_path': None, 'genre_ids': [18, 35, 10749], 'id': 86281, 'original_language': 'en', 'original_title': 'Brothers', 'overview': 'Together in the hell holes of war worlds apart in a small town', 'popularity': 0.6, 'poster_path': '/sfWUbfP2iidREgVz6EwCUgB2W5h.jpg', 'release_date': '1982-01-01', 'title': 'Brothers', 'video': False, 'vote_average': 0.0, 'vote_count': 0}, {'adult': False, 'backdrop_path': None, 'genre_ids': [35], 'id': 816504, 'original_language': 'xx', 'original_title': 'Brothers', 'overview': 'Two lesbian butch brothers live a predictable life: they do the same tasks repeatedly, day after day. However, when the night comes, their lives are anything but ordinary.', 'popularity': 0.6, 'poster_path': '/frrQlk7f65CMd0O6e0gVJBDCKH1.jpg', 'release_date': '1998-01-01', 'title': 'Brothers', 'video': False, 'vote_average': 0.0, 'vote_count': 0}, {'adult': False, 'backdrop_path': None, 'genre_ids': [], 'id': 726963, 'original_language': 'en', 'original_title': 'Brothers', 'overview': 'Everyone\\'s \"larging\" it big time as a bunch of Brit boys work their way through Paros getting high, getting drunk and getting laid.', 'popularity': 0.6, 'poster_path': '/b4OAgDbE3HoBQQkH1gLizDgJAlD.jpg', 'release_date': '', 'title': 'Brothers', 'video': False, 'vote_average': 2.0, 'vote_count': 1}, {'adult': False, 'backdrop_path': None, 'genre_ids': [99, 18], 'id': 684637, 'original_language': 'en', 'original_title': 'Brothers', 'overview': \"A young man and filmmaker, Michael Norton, suffers from Duchenne Muscular Dystrophy, but is persevering through life's hardships with the help of his skateboarding brother, John Terrence Norton. However, John, trying to achieve his dream of becoming a pro-skateboarder, struggles due to his schizophrenia. Eventually taking his own life due to the overwhelming delusions and anxiety, John dies in December of 2016. Michael, coping with the tragedy alongside his other family members, decides to produce a film to honor the memory of his aspirational brother.\", 'popularity': 0.6, 'poster_path': None, 'release_date': '2019-11-15', 'title': 'Brothers', 'video': False, 'vote_average': 0.0, 'vote_count': 0}, {'adult': False, 'backdrop_path': None, 'genre_ids': [18], 'id': 939126, 'original_language': 'en', 'original_title': 'Brothers', 'overview': \"His dumb grief was mistaken for indifference at his mother's death-bed, but it was the non-committal lady who learned the truth. The favorite son came to woo and win her. She made fine biscuits. In the end, as is quite apt to be the case, the lady gave up herself and her accomplishments in a way quite unexpected.\", 'popularity': 0.6, 'poster_path': None, 'release_date': '1913-02-03', 'title': 'Brothers', 'video': False, 'vote_average': 0.0, 'vote_count': 0}, {'adult': False, 'backdrop_path': None, 'genre_ids': [], 'id': 961003, 'original_language': 'en', 'original_title': 'Brothers', 'overview': 'A story about two young black men, Morris and David. Although they have known each other for years, the dynamics of their friendship is constantly questioned by society because of differences in sexuality.', 'popularity': 0.84, 'poster_path': '/2esyoQaeYs92LpKG4mAZNnC0WCj.jpg', 'release_date': '2021-08-08', 'title': 'Brothers', 'video': False, 'vote_average': 0.0, 'vote_count': 0}, {'adult': False, 'backdrop_path': None, 'genre_ids': [], 'id': 970451, 'original_language': 'fr', 'original_title': 'Brothers', 'overview': \"Damien and François decided to come out of the closet today but no one really believed them. Obviously, they didn't look gay enough.\", 'popularity': 0.6, 'poster_path': '/qOePClWLRPh79Wajs9IiS8Od8Wn.jpg', 'release_date': '2016-11-28', 'title': 'Brothers', 'video': False, 'vote_average': 0.0, 'vote_count': 0}, {'adult': False, 'backdrop_path': None, 'genre_ids': [], 'id': 600431, 'original_language': 'en', 'original_title': 'Brothers', 'overview': 'Bob Naughton and Eddie Connolly are identical-twin brothers that were separated in infancy. Bob is raised by a rich lawyer, has all the advantages, but is a drunk with no moral character. Eddie is a pianist in a speak-easy but a man of high character. Bob commits a murder and Eddie is blamed and faces life in prison.', 'popularity': 0.6, 'poster_path': '/lrmhEXHRwmrfqJvEXLZDIX8LpQe.jpg', 'release_date': '1930-10-19', 'title': 'Brothers', 'video': False, 'vote_average': 0.0, 'vote_count': 0}, {'adult': False, 'backdrop_path': None, 'genre_ids': [18], 'id': 664610, 'original_language': 'en', 'original_title': 'Brothers', 'overview': \"A deadbeat alcoholic witnesses his brother's death; a man who had his whole life figured out. In a grieving mess, he seeks vengeance on the one who took it all away.\", 'popularity': 0.6, 'poster_path': '/1al1E0CVmJNnuTXNZZAf1d8dmCR.jpg', 'release_date': '2019-12-25', 'title': 'Brothers', 'video': False, 'vote_average': 0.0, 'vote_count': 0}, {'adult': False, 'backdrop_path': None, 'genre_ids': [18], 'id': 513833, 'original_language': 'en', 'original_title': 'Brothers', 'overview': \"Young orphaned brothers Tom and Bob are separated when Bob is taken to an orphan asylum by the authorities and Tom escapes. As time goes by Tom takes to a life of crime, but uses the proceeds to contribute to Bob's education. Years later the brothers meet again when Tom tries to involve Bob in a con game--and neither one knows that the other is his brother. Complications ensue.\", 'popularity': 0.84, 'poster_path': '/A5UXu1VxYdHty0mtbpYIqDmGglt.jpg', 'release_date': '1931-05-18', 'title': 'Brothers', 'video': False, 'vote_average': 0.0, 'vote_count': 0}, {'adult': False, 'backdrop_path': None, 'genre_ids': [18], 'id': 936445, 'original_language': 'en', 'original_title': 'Brothers', 'overview': 'This subject deals first with a woman who has lost her husband. Her two boys are now her mainstay and support. These boys are aged respectively 6 and 8. They sell papers and give their earnings to their mother. The elder of the boys is inclined to be wild and one day be is arrested for craps playing and is sent to a reformatory.', 'popularity': 0.6, 'poster_path': None, 'release_date': '1912-04-24', 'title': 'Brothers', 'video': False, 'vote_average': 0.0, 'vote_count': 0}]\n"
          ]
        }
      ]
    },
    {
      "cell_type": "markdown",
      "source": [
        "# Data Extraction"
      ],
      "metadata": {
        "id": "-JUw7uQXPCwF"
      }
    },
    {
      "cell_type": "code",
      "source": [
        "movie_titles = md_df['movie_name'].unique()\n",
        "movie_titles"
      ],
      "metadata": {
        "colab": {
          "base_uri": "https://localhost:8080/"
        },
        "id": "85QP3kpAPFga",
        "outputId": "d726a5ce-18a0-44a3-91f5-f2f8eee40abb"
      },
      "execution_count": null,
      "outputs": [
        {
          "output_type": "execute_result",
          "data": {
            "text/plain": [
              "array([\"Madea's+Family+Reunion\", 'Krrish', 'End+of+the+Spear', ...,\n",
              "       'Ralph+Breaks+The+Internet', 'Mission:+Impossible—Fallout',\n",
              "       'Fantastic+Beasts:+The+Crimes+of+Grindelwald'], dtype=object)"
            ]
          },
          "metadata": {},
          "execution_count": 28
        }
      ]
    },
    {
      "cell_type": "markdown",
      "source": [
        "Features:\n",
        "\n",
        "- 22 Genres: Action, Adventure, Animation, Biography, Comedy, Crime, Documentary, Drama, Family, Fantasy, Film-Noir, History, Horror, Music, Musical, Mystery, Romance, Sci-Fi, Sport, Thriller, War, and Western (binary vector of length 22)\n",
        "\n",
        "- duration or running time (their analysis avg was 100min) https://developers.themoviedb.org/3/movies/get-movie-details\n",
        "\n",
        "- production budget\n",
        "\n",
        "- star value: number of likes for directos and top three performers in the cast\n",
        "  1. https://developers.themoviedb.org/3/movies/get-movie-credits (By popular)\n",
        "  2. https://developers.themoviedb.org/3/people/get-person-external-ids (Get fb id)\n",
        "  3. https://developers.facebook.com/docs/graph-api/reference/v16.0/object/likes \n",
        "\n",
        "- Number of movie reviews https://developers.themoviedb.org/3/movies/get-movie-reviews\n",
        "\n",
        "- Number of users who voted for a movie\n",
        "\n",
        "- Avg movie score (0-10)\n",
        "\n",
        "\n",
        "- Movie posters"
      ],
      "metadata": {
        "id": "sMWmElL8TD72"
      }
    },
    {
      "cell_type": "markdown",
      "source": [
        "Potential way of getting 3k most popular movies https://developers.themoviedb.org/3/movies/get-top-rated-movies\n"
      ],
      "metadata": {
        "id": "lNBciBA1ZnZ1"
      }
    },
    {
      "cell_type": "code",
      "source": [
        "movie_search = movie_titles[1930]\n",
        "response = requests.get(f\"https://api.themoviedb.org/3/search/movie?api_key={api_key_auth3}&query={movie_search}\")\n",
        "response = response.json()['results']\n",
        "print(response)"
      ],
      "metadata": {
        "colab": {
          "base_uri": "https://localhost:8080/"
        },
        "id": "7a42M6WwP8vM",
        "outputId": "e61172e6-cebb-4d80-8df2-f3389f85ddb1"
      },
      "execution_count": null,
      "outputs": [
        {
          "output_type": "stream",
          "name": "stdout",
          "text": [
            "[{'adult': False, 'backdrop_path': '/qrtRKRzoNkf5vemO9tJ2Y4DrHxQ.jpg', 'genre_ids': [14, 12, 28], 'id': 338952, 'original_language': 'en', 'original_title': 'Fantastic Beasts: The Crimes of Grindelwald', 'overview': 'Gellert Grindelwald has escaped imprisonment and has begun gathering followers to his cause—elevating wizards above all non-magical beings. The only one capable of putting a stop to him is the wizard he once called his closest friend, Albus Dumbledore. However, Dumbledore will need to seek help from the wizard who had thwarted Grindelwald once before, his former student Newt Scamander, who agrees to help, unaware of the dangers that lie ahead. Lines are drawn as love and loyalty are tested, even among the truest friends and family, in an increasingly divided wizarding world.', 'popularity': 42.442, 'poster_path': '/fMMrl8fD9gRCFJvsx0SuFwkEOop.jpg', 'release_date': '2018-11-14', 'title': 'Fantastic Beasts: The Crimes of Grindelwald', 'video': False, 'vote_average': 6.887, 'vote_count': 9906}]\n"
          ]
        }
      ]
    }
  ],
  "metadata": {
    "colab": {
      "collapsed_sections": [
        "4BIpGwANoQOg",
        "pbvpn4MaV0I1",
        "bRWfRdmVVjUl",
        "FmPIeIrmm2BF"
      ],
      "provenance": [],
      "toc_visible": true,
      "include_colab_link": true
    },
    "kernelspec": {
      "display_name": "Python 3",
      "name": "python3"
    },
    "gpuClass": "standard",
    "accelerator": "GPU"
  },
  "nbformat": 4,
  "nbformat_minor": 0
}